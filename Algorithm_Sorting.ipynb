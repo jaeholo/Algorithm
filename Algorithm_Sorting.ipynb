{
  "nbformat": 4,
  "nbformat_minor": 0,
  "metadata": {
    "colab": {
      "name": "Algorithm_Sorting.ipynb",
      "provenance": [],
      "collapsed_sections": []
    },
    "kernelspec": {
      "name": "python3",
      "display_name": "Python 3"
    }
  },
  "cells": [
    {
      "cell_type": "code",
      "metadata": {
        "colab": {
          "base_uri": "https://localhost:8080/"
        },
        "id": "ew9-jcbT76nn",
        "outputId": "1efa63e8-a10f-4552-80c8-85945a7c2080"
      },
      "source": [
        "#Insertion Sort\r\n",
        "# 核心：通过构建有序序列，对于未排序序列，在已排序序列中从后向前扫描(对于单向链表则只能从前往后遍历)，找到相应位置并插入。实现上通常使用in-place排序(需用到O(1)的额外空间)\r\n",
        "\r\n",
        "# 1. 从第一个元素开始，该元素可认为已排序\r\n",
        "# 2. 取下一个元素，对已排序数组从后往前扫描\r\n",
        "# 3. 若从排序数组中取出的元素大于新元素，则移至下一位置\r\n",
        "# 4. 重复步骤3，直至找到已排序元素小于或等于新元素的位置\r\n",
        "# 5. 插入新元素至该位置\r\n",
        "# 6. 重复2~5\r\n",
        "\r\n",
        "def insertionSort(alist):\r\n",
        "  for i, item in enumerate(alist):\r\n",
        "    index = i\r\n",
        "    while index > 0 and alist[index-1] > item:\r\n",
        "      alist[index] = alist[index-1]\r\n",
        "      index -= 1\r\n",
        "    alist[index] = item\r\n",
        "  return alist\r\n",
        "\r\n",
        "unsorted_list = [6, 5, 3, 1, 8, 7, 2, 4]\r\n",
        "print(insertionSort(unsorted_list))"
      ],
      "execution_count": null,
      "outputs": [
        {
          "output_type": "stream",
          "text": [
            "[1, 2, 3, 4, 5, 6, 7, 8]\n"
          ],
          "name": "stdout"
        }
      ]
    },
    {
      "cell_type": "markdown",
      "metadata": {
        "id": "HIexXyENmaOG"
      },
      "source": [
        "冒泡排序：\r\n",
        "冒泡，持续比较相邻元素，大的挪到后面，因此大的会逐步往后挪，故称之为冒泡平均情况"
      ]
    },
    {
      "cell_type": "code",
      "metadata": {
        "colab": {
          "base_uri": "https://localhost:8080/"
        },
        "id": "scBvtkXZmY7P",
        "outputId": "0ebdb13c-6e75-4a97-8e29-ddc8e485cae6"
      },
      "source": [
        "def bubbleSort(alist):\r\n",
        "  for i in range(len(alist)):\r\n",
        "    for j in range(1,len(alist) - i):\r\n",
        "      if alist[j-1] > alist[j]:\r\n",
        "        alist[j], alist[j-1] = alist[j-1], alist[j]\r\n",
        "  return alist\r\n",
        "\r\n",
        "unsorted_list = [6, 5, 3, 1, 8, 7, 2, 4]\r\n",
        "print(bubbleSort(unsorted_list))"
      ],
      "execution_count": null,
      "outputs": [
        {
          "output_type": "stream",
          "text": [
            "[1, 2, 3, 4, 5, 6, 7, 8]\n"
          ],
          "name": "stdout"
        }
      ]
    },
    {
      "cell_type": "markdown",
      "metadata": {
        "id": "-7_MnB9qsXmV"
      },
      "source": [
        "### **选择排序**\r\n",
        "核心：不断地选择剩余元素中的最小者。\r\n",
        "\r\n",
        "找到数组中最小元素并将其和数组第一个元素交换位置。\r\n",
        "在剩下的元素中找到最小元素并将其与数组第二个元素交换，直至整个数组排序。\r\n",
        "性质：\r\n",
        "\r\n",
        "比较次数=(N-1)+(N-2)+(N-3)+...+2+1~N^2/2\r\n",
        "交换次数=N\r\n",
        "运行时间与输入无关\r\n",
        "数据移动最少"
      ]
    },
    {
      "cell_type": "code",
      "metadata": {
        "colab": {
          "base_uri": "https://localhost:8080/"
        },
        "id": "_7BAIhOsslF2",
        "outputId": "bca7f9e4-0966-42b7-c6ee-f610a032fdb7"
      },
      "source": [
        "def selectionSort(alist):\r\n",
        "  for i in range(len(alist)):\r\n",
        "    min_index = i\r\n",
        "    for j in range(i+1,len(alist)):\r\n",
        "      if alist[j] < alist[min_index]:\r\n",
        "        min_index = j\r\n",
        "    alist[i], alist[min_index] = alist[min_index], alist[i]\r\n",
        "  return alist\r\n",
        "\r\n",
        "unsorted_list = [6, 5, 3, 1, 8, 7, 2, 4]\r\n",
        "print(selectionSort(unsorted_list))"
      ],
      "execution_count": null,
      "outputs": [
        {
          "output_type": "stream",
          "text": [
            "[1, 2, 3, 4, 5, 6, 7, 8]\n"
          ],
          "name": "stdout"
        }
      ]
    },
    {
      "cell_type": "markdown",
      "metadata": {
        "id": "Q_xVSgLg828v"
      },
      "source": [
        "### ***Merge Sort 归并排序***\r\n",
        "核心：将两个有序对数组归并成一个更大的有序数组。通常做法为递归排序，并将两个不同的有序数组归并到第三个数组中。"
      ]
    },
    {
      "cell_type": "code",
      "metadata": {
        "colab": {
          "base_uri": "https://localhost:8080/"
        },
        "id": "1j11UdeU9DBH",
        "outputId": "700e2d3d-ae1a-47c0-c941-bacddadcf1d8"
      },
      "source": [
        "class Sort:\r\n",
        "  def mergeSort(self,alist):\r\n",
        "    if len(alist) <= 1:\r\n",
        "      return alist\r\n",
        "    mid = len(alist) // 2\r\n",
        "    left = self.mergeSort(alist[:mid])\r\n",
        "    right = self.mergeSort(alist[mid:])\r\n",
        "    return self.mergeSortedArray(left,right)\r\n",
        "  \r\n",
        "  def mergeSortedArray(self,left,right):\r\n",
        "    sortedArray = []\r\n",
        "    l = 0\r\n",
        "    r = 0\r\n",
        "    while l < len(left) and r < len(right):\r\n",
        "      if left[l] < right[r]:\r\n",
        "        sortedArray.append(left[l])\r\n",
        "        l += 1\r\n",
        "      else:\r\n",
        "        sortedArray.append(right[r])\r\n",
        "        r += 1\r\n",
        "    sortedArray += left[l:]\r\n",
        "    sortedArray += right[r:]\r\n",
        "\r\n",
        "    return sortedArray \r\n",
        "\r\n",
        "unsortedArray = [6, 5, 3, 1, 8, 7, 2, 4]\r\n",
        "merge_sort = Sort()\r\n",
        "print(merge_sort.mergeSort(unsortedArray))\r\n"
      ],
      "execution_count": null,
      "outputs": [
        {
          "output_type": "stream",
          "text": [
            "[1, 2, 3, 4, 5, 6, 7, 8]\n"
          ],
          "name": "stdout"
        }
      ]
    },
    {
      "cell_type": "markdown",
      "metadata": {
        "id": "z6V65GLYyns1"
      },
      "source": [
        "**Quick Sort**\r\n",
        "\r\n",
        "核心：快排是一种采用分治思想的排序算法，大致分为三个步骤。\r\n",
        "\r\n",
        "1. 定基准——首先随机选择一个元素最为基准\r\n",
        "2. 划分区——所有比基准小的元素置于基准左侧，比基准大的元素置于右侧\r\n",
        "3. 递归调用——递归地调用此切分过程"
      ]
    },
    {
      "cell_type": "code",
      "metadata": {
        "colab": {
          "base_uri": "https://localhost:8080/"
        },
        "id": "GI47tlnUyvyp",
        "outputId": "b39a0f8f-365d-4c84-ee8d-bd80ce62833a"
      },
      "source": [
        "# 非原地快排\r\n",
        "def quickSort1(alist):\r\n",
        "  if len(alist) <= 1:\r\n",
        "    return alist\r\n",
        "  else:\r\n",
        "    pivot = alist[0]\r\n",
        "    return quickSort1([x for x in alist[1:] if x < pivot]) + \\\r\n",
        "    [pivot] + quickSort1([x for x in alist[1:] if x >= pivot])\r\n",
        "\r\n",
        "unsortedArray = [6, 5, 3, 1, 8, 7, 2, 4]\r\n",
        "print(quickSort1(unsortedArray))"
      ],
      "execution_count": null,
      "outputs": [
        {
          "output_type": "stream",
          "text": [
            "[1, 2, 3, 4, 5, 6, 7, 8]\n"
          ],
          "name": "stdout"
        }
      ]
    }
  ]
}